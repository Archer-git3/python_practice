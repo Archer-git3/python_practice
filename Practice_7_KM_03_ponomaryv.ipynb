{
  "nbformat": 4,
  "nbformat_minor": 0,
  "metadata": {
    "colab": {
      "name": "Practice_7_KM-01_.ipynb",
      "provenance": [],
      "collapsed_sections": []
    },
    "kernelspec": {
      "name": "python3",
      "display_name": "Python 3"
    }
  },
  "cells": [
    {
      "cell_type": "markdown",
      "metadata": {
        "id": "FMqboNwO4rVs"
      },
      "source": [
        "# **Курс \"Програмування на мові Python\"**\n",
        "\n",
        "##### Викладачі:\n",
        "##### Борисенко Павло Борисович\n",
        "##### Щьоголєв Максим Олегович\n"
      ]
    },
    {
      "cell_type": "markdown",
      "metadata": {
        "id": "A2T6MigL5Z06"
      },
      "source": [
        "## **Практичне зайняття №7**\n",
        "\n",
        "### Тема: \"Перевірка даних. Робота з виключеннями. Регулярні вирази\""
      ]
    },
    {
      "cell_type": "markdown",
      "metadata": {
        "id": "cfCdgK2zXm7e"
      },
      "source": [
        "### **Завдання 1 (1,5 бали)**\n",
        "\n",
        "Переробити завдання №1 практичної роботи №6 з використанням регулярних виразів.\n",
        "\n",
        "1. Створити шаблон регулярного виразу.\n",
        "\n",
        "2. За допомогою функції compile() створити об'єкт регулярного виразу.\n",
        "\n",
        "3. Всі інші вимоги залишаються такими ж, як і в оригінальному завданні."
      ]
    },
    {
      "cell_type": "code",
      "metadata": {
        "id": "ifNX2M7LXm7f"
      },
      "source": [
        "pose_estimation = \"[BodyPart:0-(0.55, 0.17) score=0.81 BodyPart:1-(0.49, 0.27) score=0.85 BodyPart:2-(0.41, 0.26) score=0.67 BodyPart:3-(0.33, 0.37) score=0.72 BodyPart:4-(0.36, 0.48) score=0.78 BodyPart:5-(0.58, 0.27) score=0.81 BodyPart:6-(0.65, 0.38) score=0.88 BodyPart:7-(0.62, 0.48) score=0.86 BodyPart:8-(0.43, 0.48) score=0.60 BodyPart:9-(0.43, 0.66) score=0.67 BodyPart:10-(0.53, 0.79) score=0.56 BodyPart:11-(0.53, 0.48) score=0.56 BodyPart:12-(0.59, 0.66) score=0.75 BodyPart:13-(0.49, 0.80) score=0.50 BodyPart:14-(0.54, 0.15) score=0.73 BodyPart:15-(0.56, 0.15) score=0.85 BodyPart:16-(0.48, 0.16) score=0.81 BodyPart:17-(0.83, 0.18) score=0.79]\"\n",
        "import re \n",
        "clear = '\\d.\\d{1,2}'\n",
        "p = re.compile(clear)\n",
        "lst = p.findall(pose_estimation)\n",
        "i = 0\n",
        "list_body = []\n",
        "list_score= []\n",
        "while i <= (len(lst)-1):\n",
        "    x=float(lst[i])\n",
        "    x1=float(lst[i+1])\n",
        "    y=float(lst[i+2])\n",
        "    list_body.append(x)\n",
        "    list_body.append(x1)\n",
        "    list_score.append(y)\n",
        "    i = i + 3\n",
        "print(\"Points\",list_body)\n",
        "print(\"Score:\",list_score)"
      ],
      "execution_count": 2,
      "outputs": []
    },
    {
      "cell_type": "markdown",
      "metadata": {
        "id": "M1Sg0vXJXm7n"
      },
      "source": [
        "### **Завдання 2 (1,5 бали)**\n",
        "\n",
        "Написати програму підрахунку коренів квадратного рівняння без попередніх перевірок.\n",
        "\n",
        "1. Користувач має вводити коефіцієнти a, b та c з клавіатури.\n",
        "\n",
        "2. Програма має обробляти помилки ділення на 0, кореня від'ємного числа та інші, а також виводити відповідні повідомлення у разі виникнення таких помилок.\n",
        "\n",
        "3. Якщо рівняння не має коренів, программа має генерувати помилку за допомогою ключового слова raise, а потім обробляти її.\n",
        "\n",
        "4. Правильно написана програма при виникненні різних помилок має виводити текст помилки, а також різні повідомлення про те, в чому суть цих помилок. Необроблених помилок бути не повинно."
      ]
    },
    {
      "cell_type": "code",
      "metadata": {
        "id": "co7fcAuvXm7o"
      },
      "source": [
        "def calculate():\n",
        "    a=input(\"Enterence A: \")\n",
        "    b=input(\"Enterence B: \")\n",
        "    c=input(\"Enterence C: \")\n",
        "    try:\n",
        "        a=float(a)\n",
        "        if a == 0:\n",
        "            raise ZeroDivisionError\n",
        "        b=float(b)\n",
        "        c=float(c)\n",
        "        if a== 0 or b==0 or c==0:\n",
        "            print(\"This will be an incomplete quadratic equation\")\n",
        "            print(\"try again\")\n",
        "            calculate()\n",
        "        else:\n",
        "            D=b**2-4*a*c\n",
        "            if D==0:\n",
        "                x =(-b)/(2*a)\n",
        "                print(\"Discriminant is equal to 0, then the roots of this equation will be 1, and it is equal to:\\nx= \" + str(x))\n",
        "            elif D<0:\n",
        "                print(\"Negative discriminant has no roots\")\n",
        "                print(\"Try again\")\n",
        "                calculate()\n",
        "            else:\n",
        "                D=D**(1/2)\n",
        "                x1=((-b)+D)/(2*a)\n",
        "                x2=((-b)-D)/(2*a)\n",
        "                print(\"The roots of the quadratic equation are equal to:\\nx1= \"+ str(x1) +\"\\nx2= \"+ str(x2) )\n",
        "    except ValueError:\n",
        "        print(\"the entered values are not numbers\")\n",
        "        print(\"Try again \")\n",
        "        calculate()\n",
        "    except ZeroDivisionError as division_zero:\n",
        "        print(division_zero)\n",
        "        print(\"An error was detected when dividing by 0, please try again\")\n",
        "        calculate()\n",
        "calculate()"
      ],
      "execution_count": 4,
      "outputs": []
    }
  ]
}