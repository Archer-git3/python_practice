{
  "nbformat": 4,
  "nbformat_minor": 0,
  "metadata": {
    "colab": {
      "name": "Practice_7_KM-01_.ipynb",
      "provenance": [],
      "collapsed_sections": []
    },
    "kernelspec": {
      "name": "python3",
      "display_name": "Python 3.8.5 32-bit",
      "metadata": {
        "interpreter": {
          "hash": "0ebdf807f24b79bd5c87b2cfa475e815fe51f3bb0cc360fb27b840bf8329cae2"
        }
      }
    }
  },
  "cells": [
    {
      "cell_type": "markdown",
      "metadata": {
        "id": "FMqboNwO4rVs"
      },
      "source": [
        "# **Курс \"Програмування на мові Python\"**\n",
        "\n",
        "##### Викладачі:\n",
        "##### Борисенко Павло Борисович\n",
        "##### Щьоголєв Максим Олегович\n"
      ]
    },
    {
      "cell_type": "markdown",
      "metadata": {
        "id": "A2T6MigL5Z06"
      },
      "source": [
        "## **Практичне зайняття №8**\n",
        "\n",
        "### Тема: \"Робота з функціями. Локальні та глобальні змінні\""
      ]
    },
    {
      "cell_type": "markdown",
      "metadata": {
        "id": "cfCdgK2zXm7e"
      },
      "source": [
        "### **Завдання 1 (3 бали)**\n",
        "\n",
        "**Підрахувати визначник матриці, використовуючи перестановки та символ Леві-Чивіти.**\n",
        "\n",
        "Функція random_matrix() призначена для створення квадратної матриці випадкових чисел. Її змінювати непотрібно.\n",
        "\n",
        "Приклад використання методу permutations() для створення списку перестановок також подається у комірці з кодом.\n",
        "\n",
        "1) Створити 3 функції: функцію створення списку перестановок, функцію підрахунку добутків та функцію підрахунку загальної суми.\n",
        "\n",
        "2) Кожна функція має супроводжуватись рядком документації, що буде коротко описувати її призначення.\n",
        "\n",
        "3) Розмірність квадратної матриці має вводитись користувачем з клавіатури. Підрахунки виконувати лише в тому разі, якщо користувач введе ціле додатне число.\n",
        "\n",
        "4) Загальний результат повинен підраховуватись за допомогою композиції функцій.\n",
        "\n",
        "За бажання можна перевірити правильність роботи програми за допомогою функції np.linalg.det(a)."
      ]
    },
    {
      "cell_type": "code",
      "metadata": {
        "id": "ifNX2M7LXm7f"
      },
      "source": [
        "from itertools import *\n",
        "import numpy as np\n",
        "import itertools\n",
        "def random_matrix(dim):\n",
        "    \"\"\"\n",
        "    The function generates dim x dim array of integers\n",
        "    between 0 and 10.\n",
        "    \"\"\"\n",
        "    matrix = np.random.randint(10, size = (dim, dim))\n",
        "    return matrix\n",
        "\n",
        "def int_cheak(text):\n",
        "    val=input(text)\n",
        "    while type(val) !=int:\n",
        "        try:\n",
        "            val = int(val)\n",
        "        except:\n",
        "            val=input()\n",
        "    return int(val)\n",
        "\n",
        "x=int_cheak(\"enter the size of your matrix:\")\n",
        "t = list(itertools.permutations('123', x))\n",
        "matrix=random_matrix(x)\n",
        "print(matrix)\n",
        "n=1\n",
        "leb = len(matrix)\n",
        "\n",
        "\n",
        "for i in range(1, leb + 1):\n",
        "    n *= i   #N\n",
        "v = []\n",
        "for m in range(leb):\n",
        "    v.append(m)\n",
        "    m += 1  #\n",
        "f=[]\n",
        "for q in permutations(v):\n",
        "   bb=(q)\n",
        "   bb=list(bb)\n",
        "   f.append(bb) #permutations\n",
        "\n",
        "\n",
        "for i in range(1,x+1):\n",
        "    n*=i\n",
        "pp=0\n",
        "for i in range(0,x-1):\n",
        "    qq=1\n",
        "    gg=from itertools import *\n",
        "import numpy as np\n",
        "import itertools\n",
        "def random_matrix(dim):\n",
        "    \"\"\"\n",
        "    The function generates dim x dim array of integers\n",
        "    between 0 and 10.\n",
        "    \"\"\"\n",
        "    matrix = np.random.randint(10, size = (dim, dim))\n",
        "    return matrix\n",
        "\n",
        "def int_cheak(text):\n",
        "    val=input(text)\n",
        "    while type(val) !=int:\n",
        "        try:\n",
        "            val = int(val)\n",
        "        except:\n",
        "            val=input()\n",
        "    return int(val)\n",
        "\n",
        "x=int_cheak(\"enter the size of your matrix:\")\n",
        "t = list(itertools.permutations('123', x))\n",
        "matrix=random_matrix(x)\n",
        "print(matrix)\n",
        "n=1\n",
        "leb = len(matrix)\n",
        "\n",
        "\n",
        "for i in range(1, leb + 1):\n",
        "    n *= i   #N\n",
        "v = []\n",
        "for m in range(leb):\n",
        "    v.append(m)\n",
        "    m += 1  #\n",
        "f=[]\n",
        "for q in permutations(v):\n",
        "   bb=(q)\n",
        "   bb=list(bb)\n",
        "   f.append(bb) #permutations\n",
        "\n",
        "\n",
        "for i in range(1,x+1):\n",
        "    n*=i\n",
        "pp=0\n",
        "for i in range(0,x-1):\n",
        "    qq=1\n",
        "    gg=0\n",
        "    hh=0\n",
        "    for o in range (0, x):\n",
        "        gg=f[i],[o]\n",
        "        gg=gg[-1]\n",
        "        p=v[o]\n",
        "        hh=matrix[p,gg]\n",
        "        qq*=hh\n",
        "    print(qq)\n",
        "    pp+=qq\n",
        "print('sum',pp)\n",
        "\n",
        "dete= np.linalg.det(matrix)\n",
        "print(\"np.linalg.det: \",dete)0\n",
        "    hh=0\n",
        "    for o in range (0, x):\n",
        "        gg=f[i],[o]\n",
        "        gg=gg[-1]\n",
        "        p=v[o]\n",
        "        hh=matrix[p,gg]\n",
        "        qq*=hh\n",
        "    print(qq)\n",
        "    pp+=qq\n",
        "print('sum',pp)\n",
        "\n",
        "dete= np.linalg.det(matrix)\n",
        "print(\"np.linalg.det: \",dete)"
      ],
      "execution_count": 8,
      "outputs": [
        {
          "output_type": "stream",
          "name": "stdout",
          "text": [
            "[[2 7 7]\n [8 4 5]\n [0 5 1]]\nrange(0, 3)\n"
          ]
        }
      ]
    },
    {
      "cell_type": "code",
      "execution_count": null,
      "metadata": {},
      "outputs": [],
      "source": []
    }
  ]
}